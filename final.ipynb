{
 "cells": [
  {
   "cell_type": "markdown",
   "id": "9801cf77",
   "metadata": {},
   "source": [
    "# import libaries"
   ]
  },
  {
   "cell_type": "code",
   "execution_count": 1,
   "id": "6964adcb",
   "metadata": {},
   "outputs": [],
   "source": [
    "import pandas as pd\n",
    "from sklearn.model_selection import train_test_split\n",
    "from sklearn.tree import DecisionTreeClassifier\n",
    "from sklearn.metrics import confusion_matrix\n",
    "from imblearn.metrics import classification_report_imbalanced\n",
    "from imblearn.over_sampling import RandomOverSampler\n",
    "from imblearn.under_sampling import RepeatedEditedNearestNeighbours\n",
    "from imblearn.pipeline import Pipeline \n",
    "from sklearn.preprocessing import StandardScaler\n",
    "from collections import Counter\n",
    "from sklearn.feature_selection import RFECV\n",
    "from sklearn.linear_model import LogisticRegression\n",
    "from sklearn.svm import SVC"
   ]
  },
  {
   "cell_type": "markdown",
   "id": "924717ce",
   "metadata": {},
   "source": [
    "# import the dataset"
   ]
  },
  {
   "cell_type": "code",
   "execution_count": 2,
   "id": "6b34b4d7",
   "metadata": {},
   "outputs": [],
   "source": [
    "df=pd.read_csv('../heart_disease/heart_disease.csv')\n",
    "#df.isnull().sum() #check for null values \n",
    "#df.columns"
   ]
  },
  {
   "cell_type": "code",
   "execution_count": 3,
   "id": "474dc98f",
   "metadata": {},
   "outputs": [],
   "source": [
    "X = df.drop (labels = ['HeartDiseaseorAttack'], axis =1)\n",
    "y = df['HeartDiseaseorAttack']"
   ]
  },
  {
   "cell_type": "markdown",
   "id": "efc70a67",
   "metadata": {},
   "source": [
    "# Define Resampling algorithms"
   ]
  },
  {
   "cell_type": "code",
   "execution_count": 4,
   "id": "11fe7755",
   "metadata": {},
   "outputs": [],
   "source": [
    "over=  RandomOverSampler(sampling_strategy=0.2)\n",
    "under= RepeatedEditedNearestNeighbours(sampling_strategy='majority', max_iter=100,n_neighbors=7, kind_sel='all', n_jobs=-1)"
   ]
  },
  {
   "cell_type": "markdown",
   "id": "b1012cc9",
   "metadata": {},
   "source": [
    "# Feature Selection"
   ]
  },
  {
   "cell_type": "code",
   "execution_count": 5,
   "id": "1e6c66df",
   "metadata": {},
   "outputs": [
    {
     "name": "stdout",
     "output_type": "stream",
     "text": [
      "The optimal number of features: 20\n",
      "Best features: Index(['HighBP', 'HighChol', 'BMI', 'Smoker', 'Stroke', 'Diabetes',\n",
      "       'PhysActivity', 'Fruits', 'Veggies', 'HvyAlcoholConsump',\n",
      "       'AnyHealthcare', 'NoDocbcCost', 'GenHlth', 'MentHlth', 'PhysHlth',\n",
      "       'DiffWalk', 'Sex', 'Age', 'Education', 'Income'],\n",
      "      dtype='object')\n"
     ]
    }
   ],
   "source": [
    "#balanced_accuracy, or f1_weighted\n",
    "rfecv = RFECV(estimator= DecisionTreeClassifier(), step = 1, cv = 5, scoring=\"balanced_accuracy\", n_jobs=-1)\n",
    "rfecv = rfecv.fit(X, y)\n",
    "\n",
    "print(\"The optimal number of features:\", rfecv.n_features_)\n",
    "print(\"Best features:\", X.columns[rfecv.support_])\n",
    "\n",
    "X_new = rfecv.transform(X)"
   ]
  },
  {
   "cell_type": "code",
   "execution_count": 6,
   "id": "78abab7f",
   "metadata": {},
   "outputs": [
    {
     "data": {
      "text/plain": [
       "(177576, 20)"
      ]
     },
     "execution_count": 6,
     "metadata": {},
     "output_type": "execute_result"
    }
   ],
   "source": [
    "X_train, X_test, y_train , y_test = train_test_split(X_new,y,test_size=0.3, random_state=0) \n",
    "X_train.shape"
   ]
  },
  {
   "cell_type": "markdown",
   "id": "d87cd822",
   "metadata": {},
   "source": [
    "# Train the model and predict (original data)"
   ]
  },
  {
   "cell_type": "code",
   "execution_count": 15,
   "id": "4aa0d5ee",
   "metadata": {},
   "outputs": [
    {
     "name": "stdout",
     "output_type": "stream",
     "text": [
      "                   pre       rec       spe        f1       geo       iba       sup\n",
      "\n",
      "        0.0       0.92      0.91      0.28      0.92      0.50      0.27     68840\n",
      "        1.0       0.24      0.28      0.91      0.26      0.50      0.23      7264\n",
      "\n",
      "avg / total       0.86      0.85      0.34      0.85      0.50      0.26     76104\n",
      "\n"
     ]
    }
   ],
   "source": [
    "model=DecisionTreeClassifier()\n",
    "\n",
    "model.fit(X_train, y_train)\n",
    "y_pred = model.predict(X_test)\n",
    "\n",
    "print(classification_report_imbalanced(y_test, y_pred))"
   ]
  },
  {
   "cell_type": "markdown",
   "id": "bec041cb",
   "metadata": {},
   "source": [
    "# Logistic regression"
   ]
  },
  {
   "cell_type": "code",
   "execution_count": 12,
   "id": "6b425e4c",
   "metadata": {},
   "outputs": [
    {
     "name": "stdout",
     "output_type": "stream",
     "text": [
      "                   pre       rec       spe        f1       geo       iba       sup\n",
      "\n",
      "        0.0       0.98      0.71      0.83      0.82      0.77      0.58     68840\n",
      "        1.0       0.23      0.83      0.71      0.36      0.77      0.59      7264\n",
      "\n",
      "avg / total       0.90      0.72      0.82      0.78      0.77      0.58     76104\n",
      "\n"
     ]
    }
   ],
   "source": [
    "X_train, X_test, y_train , y_test = train_test_split(X_new,y,test_size=0.3, random_state=0) \n",
    "\n",
    "model2= LogisticRegression()\n",
    "#model2= LogisticRegression(penalty=\"l2\", C=0.001, class_weight={0:5.3, 1:0.5}, solver=\"lbfgs\")\n",
    "\n",
    "pipeline = Pipeline([('StandardScaler', StandardScaler()), ('over', over), ('under', under), ('model2', model2)])\n",
    "\n",
    "pipeline.fit(X_train, y_train) \n",
    "\n",
    "y_hat = pipeline.predict(X_test)\n",
    "print(classification_report_imbalanced(y_test, y_hat)) #87 40 #com penalty e c : 91, 41"
   ]
  },
  {
   "cell_type": "markdown",
   "id": "f55656d8",
   "metadata": {},
   "source": [
    "# Decision Tree"
   ]
  },
  {
   "cell_type": "code",
   "execution_count": 7,
   "id": "1cf883c8",
   "metadata": {},
   "outputs": [
    {
     "name": "stdout",
     "output_type": "stream",
     "text": [
      "                   pre       rec       spe        f1       geo       iba       sup\n",
      "\n",
      "        0.0       0.96      0.73      0.73      0.83      0.73      0.53     68840\n",
      "        1.0       0.22      0.73      0.73      0.34      0.73      0.53      7264\n",
      "\n",
      "avg / total       0.89      0.73      0.73      0.78      0.73      0.53     76104\n",
      "\n"
     ]
    }
   ],
   "source": [
    "X_train, X_test, y_train , y_test = train_test_split(X_new,y,test_size=0.3, random_state=0) \n",
    "\n",
    "model2= DecisionTreeClassifier()#criterion=\"entropy\", class_weight={0:5.3, 1:0.55}, max_depth=30\n",
    "\n",
    "\n",
    "pipeline = Pipeline([('over', over), ('under', under), ('model2', model2)])\n",
    "pipeline.fit(X_train, y_train) \n",
    "\n",
    "y_hat = pipeline.predict(X_test)\n",
    "print(classification_report_imbalanced(y_test, y_hat))#84 25 ## com scaler 87 35 #89 34 com class weight"
   ]
  },
  {
   "cell_type": "markdown",
   "id": "479c1b35",
   "metadata": {},
   "source": [
    "# SVM"
   ]
  },
  {
   "cell_type": "code",
   "execution_count": 16,
   "id": "6baf5cbe",
   "metadata": {},
   "outputs": [
    {
     "name": "stdout",
     "output_type": "stream",
     "text": [
      "                   pre       rec       spe        f1       geo       iba       sup\n",
      "\n",
      "        0.0       0.97      0.72      0.82      0.83      0.76      0.58     68840\n",
      "        1.0       0.23      0.82      0.72      0.36      0.76      0.59      7264\n",
      "\n",
      "avg / total       0.90      0.73      0.81      0.78      0.76      0.58     76104\n",
      "\n"
     ]
    }
   ],
   "source": [
    "X_train, X_test, y_train , y_test = train_test_split(X_new,y,test_size=0.3, random_state=0) \n",
    "\n",
    "model2= SVC()#C=1, gamma=0.1, kernel='rbf', class_weight={0:5.3,1:0.55}\n",
    "\n",
    "pipeline = Pipeline([('StandardScaler', StandardScaler()), ('over', over), ('under', under), ('model2', model2)])\n",
    "\n",
    "pipeline.fit(X_train, y_train) \n",
    "\n",
    "y_hat = pipeline.predict(X_test)\n",
    "print(classification_report_imbalanced(y_test, y_hat)) #sem class wheight 82,36"
   ]
  }
 ],
 "metadata": {
  "kernelspec": {
   "display_name": "Python 3 (ipykernel)",
   "language": "python",
   "name": "python3"
  },
  "language_info": {
   "codemirror_mode": {
    "name": "ipython",
    "version": 3
   },
   "file_extension": ".py",
   "mimetype": "text/x-python",
   "name": "python",
   "nbconvert_exporter": "python",
   "pygments_lexer": "ipython3",
   "version": "3.9.12"
  }
 },
 "nbformat": 4,
 "nbformat_minor": 5
}

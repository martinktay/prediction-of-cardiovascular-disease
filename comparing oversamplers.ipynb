{
 "cells": [
  {
   "cell_type": "markdown",
   "id": "95fcfa83",
   "metadata": {},
   "source": [
    "# import libaries"
   ]
  },
  {
   "cell_type": "code",
   "execution_count": 1,
   "id": "34bbcfbc",
   "metadata": {},
   "outputs": [],
   "source": [
    "import pandas as pd\n",
    "from sklearn.model_selection import train_test_split\n",
    "from sklearn.tree import DecisionTreeClassifier\n",
    "from sklearn.metrics import confusion_matrix\n",
    "from imblearn.metrics import classification_report_imbalanced\n",
    "from imblearn.under_sampling import RandomUnderSampler\n",
    "from imblearn.over_sampling import SMOTEN, SMOTENC, RandomOverSampler\n",
    "from imblearn.pipeline import Pipeline \n",
    "from collections import Counter"
   ]
  },
  {
   "cell_type": "markdown",
   "id": "58f69fa5",
   "metadata": {},
   "source": [
    "# import the dataset"
   ]
  },
  {
   "cell_type": "code",
   "execution_count": 8,
   "id": "7a0c28b9",
   "metadata": {},
   "outputs": [],
   "source": [
    "df=pd.read_csv('../heart_disease/heart_disease.csv')\n",
    "#df.isnull().sum() #check for null values "
   ]
  },
  {
   "cell_type": "code",
   "execution_count": null,
   "id": "5f95fc51",
   "metadata": {},
   "outputs": [],
   "source": [
    "model = DecisionTreeClassifier()"
   ]
  },
  {
   "cell_type": "markdown",
   "id": "f93aa9c7",
   "metadata": {},
   "source": [
    "# RandomOverSampler"
   ]
  },
  {
   "cell_type": "code",
   "execution_count": 4,
   "id": "b023b049",
   "metadata": {},
   "outputs": [
    {
     "name": "stdout",
     "output_type": "stream",
     "text": [
      "                   pre       rec       spe        f1       geo       iba       sup\n",
      "\n",
      "        0.0       0.92      0.91      0.27      0.92      0.50      0.26     68840\n",
      "        1.0       0.24      0.27      0.91      0.26      0.50      0.23      7264\n",
      "\n",
      "avg / total       0.86      0.85      0.33      0.85      0.50      0.26     76104\n",
      "\n"
     ]
    }
   ],
   "source": [
    "X = df.drop (labels = ['HeartDiseaseorAttack'], axis =1)\n",
    "y = df['HeartDiseaseorAttack']\n",
    "\n",
    "X_train, X_test, y_train, y_test = train_test_split(X, y, test_size=0.3, random_state=0)\n",
    "\n",
    "over = RandomOverSampler(sampling_strategy=0.3)\n",
    "#under = RandomUnderSampler(sampling_strategy=0.5)\n",
    "\n",
    "pipeline = Pipeline([('over', over), ('model', model)])\n",
    "\n",
    "pipeline.fit(X_train, y_train) \n",
    "\n",
    "y_hat = pipeline.predict(X_test)\n",
    "print(classification_report_imbalanced(y_test, y_hat))"
   ]
  },
  {
   "cell_type": "markdown",
   "id": "611e9c6b",
   "metadata": {},
   "source": [
    "# SmoteN"
   ]
  },
  {
   "cell_type": "code",
   "execution_count": 7,
   "id": "d45c3779",
   "metadata": {},
   "outputs": [
    {
     "name": "stdout",
     "output_type": "stream",
     "text": [
      "                   pre       rec       spe        f1       geo       iba       sup\n",
      "\n",
      "        0.0       0.92      0.89      0.31      0.91      0.53      0.29     68840\n",
      "        1.0       0.23      0.31      0.89      0.26      0.53      0.26      7264\n",
      "\n",
      "avg / total       0.86      0.83      0.37      0.85      0.53      0.29     76104\n",
      "\n"
     ]
    }
   ],
   "source": [
    "X = df.drop (labels = ['HeartDiseaseorAttack'], axis =1)\n",
    "y = df['HeartDiseaseorAttack']\n",
    "\n",
    "X_train, X_test, y_train, y_test = train_test_split(X, y, test_size=0.3, random_state=0)\n",
    "\n",
    "overSMOTEN = SMOTEN(sampling_strategy=0.3, n_jobs=-1)\n",
    "#under = RandomUnderSampler(sampling_strategy=0.5)\n",
    "\n",
    "pipeline = Pipeline([('over', overSMOTEN), ('model', model)])\n",
    "\n",
    "pipeline.fit(X_train, y_train) \n",
    "\n",
    "y_hat = pipeline.predict(X_test)\n",
    "print(classification_report_imbalanced(y_test, y_hat))"
   ]
  },
  {
   "cell_type": "markdown",
   "id": "eebbbd33",
   "metadata": {},
   "source": [
    "# SmoteNC"
   ]
  },
  {
   "cell_type": "code",
   "execution_count": 9,
   "id": "93758510",
   "metadata": {},
   "outputs": [
    {
     "name": "stdout",
     "output_type": "stream",
     "text": [
      "                   pre       rec       spe        f1       geo       iba       sup\n",
      "\n",
      "        0.0       0.93      0.88      0.36      0.90      0.56      0.33     68840\n",
      "        1.0       0.23      0.36      0.88      0.28      0.56      0.30      7264\n",
      "\n",
      "avg / total       0.86      0.83      0.40      0.84      0.56      0.32     76104\n",
      "\n"
     ]
    }
   ],
   "source": [
    "X = df.drop (labels = ['HeartDiseaseorAttack'], axis =1)\n",
    "y = df['HeartDiseaseorAttack']\n",
    "\n",
    "X_train, X_test, y_train, y_test = train_test_split(X, y, test_size=0.3, random_state=0)\n",
    "\n",
    "overSMOTENC = SMOTENC(sampling_strategy=0.3, n_jobs=-1, categorical_features=[0,1,3,4,5,6,7,8,9,10,11,12,13,14,15,16,17,18,19,20])\n",
    "#under = RandomUnderSampler(sampling_strategy=0.5)\n",
    "\n",
    "pipeline = Pipeline([('over', overSMOTENC), ('model', model)])\n",
    "\n",
    "pipeline.fit(X_train, y_train) \n",
    "\n",
    "y_hat = pipeline.predict(X_test)\n",
    "print(classification_report_imbalanced(y_test, y_hat))"
   ]
  },
  {
   "cell_type": "markdown",
   "id": "4813ca3c",
   "metadata": {},
   "source": [
    "# Manual for testing"
   ]
  },
  {
   "cell_type": "code",
   "execution_count": 6,
   "id": "c5320842",
   "metadata": {},
   "outputs": [
    {
     "name": "stdout",
     "output_type": "stream",
     "text": [
      "Original dataset shape Counter({0.0: 229787, 1.0: 23893})\n",
      "Y train Counter({0.0: 160947, 1.0: 16629})\n",
      "Y test Counter({0.0: 68840, 1.0: 7264})\n",
      "Y balanced Counter({0.0: 96568, 1.0: 48284})\n"
     ]
    }
   ],
   "source": [
    "X = df.drop (labels = ['HeartDiseaseorAttack'], axis =1)\n",
    "y = df['HeartDiseaseorAttack']\n",
    "\n",
    "print(f'Original dataset shape {Counter(y)}')\n",
    "\n",
    "X_train, X_test, y_train , y_test = train_test_split(X,y,test_size=0.3, random_state=0) \n",
    "\n",
    "overSMOTEN = SMOTEN(sampling_strategy=0.3, n_jobs=-1)\n",
    "under = RandomUnderSampler(sampling_strategy=0.5)\n",
    "\n",
    "print(f'Y train {Counter(y_train)}')\n",
    "print(f'Y test {Counter(y_test)}')\n",
    "\n",
    "X_balanced, y_balanced = overSMOTEN.fit_resample(X_train, y_train)\n",
    "X_balanced, y_balanced = under.fit_resample(X_balanced, y_balanced)\n",
    "\n",
    "print(f'Y balanced {Counter(y_balanced)}')"
   ]
  },
  {
   "cell_type": "code",
   "execution_count": 20,
   "id": "9d2eb759",
   "metadata": {},
   "outputs": [
    {
     "name": "stdout",
     "output_type": "stream",
     "text": [
      "                   pre       rec       spe        f1       geo       iba       sup\n",
      "\n",
      "        0.0       0.92      0.91      0.28      0.92      0.50      0.27     68840\n",
      "        1.0       0.24      0.28      0.91      0.26      0.50      0.24      7264\n",
      "\n",
      "avg / total       0.86      0.85      0.34      0.85      0.50      0.27     76104\n",
      "\n"
     ]
    }
   ],
   "source": [
    "model.fit(X_balanced, y_balanced)\n",
    "y_pred = model.predict(X_test)\n",
    "\n",
    "print(classification_report_imbalanced(y_test, y_pred))"
   ]
  }
 ],
 "metadata": {
  "kernelspec": {
   "display_name": "Python 3 (ipykernel)",
   "language": "python",
   "name": "python3"
  },
  "language_info": {
   "codemirror_mode": {
    "name": "ipython",
    "version": 3
   },
   "file_extension": ".py",
   "mimetype": "text/x-python",
   "name": "python",
   "nbconvert_exporter": "python",
   "pygments_lexer": "ipython3",
   "version": "3.9.13"
  }
 },
 "nbformat": 4,
 "nbformat_minor": 5
}

{
 "cells": [
  {
   "cell_type": "markdown",
   "id": "95fcfa83",
   "metadata": {},
   "source": [
    "# import libaries"
   ]
  },
  {
   "cell_type": "code",
   "execution_count": 7,
   "id": "34bbcfbc",
   "metadata": {},
   "outputs": [],
   "source": [
    "import pandas as pd\n",
    "from sklearn.model_selection import train_test_split\n",
    "from sklearn.tree import DecisionTreeClassifier\n",
    "from sklearn.metrics import confusion_matrix\n",
    "from imblearn.metrics import classification_report_imbalanced\n",
    "from imblearn.pipeline import Pipeline \n",
    "from imblearn.combine import SMOTETomek, SMOTEENN \n",
    "from imblearn.under_sampling import TomekLinks, EditedNearestNeighbours\n",
    "from imblearn.over_sampling import SMOTEN\n",
    "from sklearn.preprocessing import StandardScaler\n",
    "from collections import Counter"
   ]
  },
  {
   "cell_type": "markdown",
   "id": "58f69fa5",
   "metadata": {},
   "source": [
    "# Import the dataset "
   ]
  },
  {
   "cell_type": "code",
   "execution_count": 2,
   "id": "7a0c28b9",
   "metadata": {},
   "outputs": [],
   "source": [
    "df=pd.read_csv('../heart_disease/heart_disease.csv')\n",
    "#df.isnull().sum() #check for null values \n",
    "#df.columns"
   ]
  },
  {
   "cell_type": "code",
   "execution_count": 3,
   "id": "504483b3",
   "metadata": {},
   "outputs": [],
   "source": [
    "model = DecisionTreeClassifier()"
   ]
  },
  {
   "cell_type": "markdown",
   "id": "0cc6513f",
   "metadata": {},
   "source": [
    "# Combined: SmoteTomek"
   ]
  },
  {
   "cell_type": "code",
   "execution_count": 8,
   "id": "8df33f77",
   "metadata": {},
   "outputs": [
    {
     "name": "stdout",
     "output_type": "stream",
     "text": [
      "                   pre       rec       spe        f1       geo       iba       sup\n",
      "\n",
      "        0.0       0.92      0.91      0.29      0.92      0.51      0.28     68840\n",
      "        1.0       0.25      0.29      0.91      0.26      0.51      0.24      7264\n",
      "\n",
      "avg / total       0.86      0.85      0.35      0.85      0.51      0.27     76104\n",
      "\n"
     ]
    }
   ],
   "source": [
    "X = df.drop (labels = ['HeartDiseaseorAttack'], axis =1)\n",
    "y = df['HeartDiseaseorAttack']\n",
    "\n",
    "smt= SMOTEN(sampling_strategy=0.3, n_jobs=-1)\n",
    "tomek= TomekLinks(sampling_strategy='majority', n_jobs=-1)\n",
    "\n",
    "resample = SMOTETomek(tomek=TomekLinks(sampling_strategy='majority'))\n",
    "\n",
    "pipeline = Pipeline([('StandardScaler', StandardScaler()), ('r', resample), ('model', model)])\n",
    "\n",
    "X_train, X_test, y_train, y_test = train_test_split(X, y, test_size=0.3, random_state=0)\n",
    "\n",
    "pipeline.fit(X_train, y_train) \n",
    "\n",
    "y_hat = pipeline.predict(X_test)\n",
    "print(classification_report_imbalanced(y_test, y_hat))"
   ]
  },
  {
   "cell_type": "markdown",
   "id": "f3181749",
   "metadata": {},
   "source": [
    "# Combined: SMOTEENN"
   ]
  },
  {
   "cell_type": "code",
   "execution_count": 9,
   "id": "8192f5d7",
   "metadata": {},
   "outputs": [
    {
     "name": "stdout",
     "output_type": "stream",
     "text": [
      "                   pre       rec       spe        f1       geo       iba       sup\n",
      "\n",
      "        0.0       0.94      0.82      0.52      0.88      0.65      0.44     68840\n",
      "        1.0       0.23      0.52      0.82      0.32      0.65      0.42      7264\n",
      "\n",
      "avg / total       0.87      0.79      0.55      0.82      0.65      0.44     76104\n",
      "\n"
     ]
    }
   ],
   "source": [
    "X = df.drop (labels = ['HeartDiseaseorAttack'], axis =1)\n",
    "y = df['HeartDiseaseorAttack']\n",
    "\n",
    "smt=SMOTEN(sampling_strategy=0.3, n_jobs=-1)\n",
    "enn1=EditedNearestNeighbours(sampling_strategy= 'majority')\n",
    "\n",
    "resample = SMOTEENN(random_state=42, n_jobs=-1, enn=enn1, smote=smt)\n",
    "\n",
    "pipeline = Pipeline([('StandardScaler', StandardScaler()), ('r', resample), ('model', model)])\n",
    "\n",
    "X_train, X_test, y_train, y_test = train_test_split(X, y, test_size=0.3, random_state=0)\n",
    "\n",
    "pipeline.fit(X_train, y_train) \n",
    "\n",
    "y_hat = pipeline.predict(X_test)\n",
    "print(classification_report_imbalanced(y_test, y_hat))"
   ]
  },
  {
   "cell_type": "markdown",
   "id": "566b88bd",
   "metadata": {},
   "source": [
    "# without pipeline (for testing)"
   ]
  },
  {
   "cell_type": "code",
   "execution_count": 5,
   "id": "8d9816ee",
   "metadata": {},
   "outputs": [
    {
     "name": "stdout",
     "output_type": "stream",
     "text": [
      "Original dataset shape Counter({0.0: 229787, 1.0: 23893})\n",
      "Y train Counter({0.0: 160947, 1.0: 16629})\n",
      "Y test Counter({0.0: 68840, 1.0: 7264})\n",
      "Y balanced Counter({0.0: 125829, 1.0: 48284})\n"
     ]
    }
   ],
   "source": [
    "from collections import Counter\n",
    "\n",
    "print(f'Original dataset shape {Counter(y)}')\n",
    "\n",
    "X_train, X_test, y_train , y_test = train_test_split(X,y,test_size=0.3, random_state=0) \n",
    "\n",
    "print(f'Y train {Counter(y_train)}')\n",
    "print(f'Y test {Counter(y_test)}')\n",
    "\n",
    "smt=SMOTEN(sampling_strategy=0.3, n_jobs=-1)\n",
    "enn1=EditedNearestNeighbours(sampling_strategy= 'majority')\n",
    "\n",
    "resample = SMOTEENN(random_state=42, n_jobs=-1, enn=enn1, smote=smt)\n",
    "\n",
    "X_balanced, y_balanced = resample.fit_resample(X_train, y_train)\n",
    "\n",
    "print(f'Y balanced {Counter(y_balanced)}')"
   ]
  },
  {
   "cell_type": "code",
   "execution_count": 6,
   "id": "a3509e71",
   "metadata": {},
   "outputs": [
    {
     "name": "stdout",
     "output_type": "stream",
     "text": [
      "                   pre       rec       spe        f1       geo       iba       sup\n",
      "\n",
      "        0.0       0.94      0.83      0.49      0.88      0.64      0.42     68840\n",
      "        1.0       0.23      0.49      0.83      0.32      0.64      0.39      7264\n",
      "\n",
      "avg / total       0.87      0.80      0.52      0.83      0.64      0.42     76104\n",
      "\n"
     ]
    }
   ],
   "source": [
    "model = DecisionTreeClassifier()\n",
    "\n",
    "model.fit(X_balanced, y_balanced)\n",
    "y_pred = model.predict(X_test)\n",
    "\n",
    "print(classification_report_imbalanced(y_test, y_pred))"
   ]
  }
 ],
 "metadata": {
  "kernelspec": {
   "display_name": "Python 3 (ipykernel)",
   "language": "python",
   "name": "python3"
  },
  "language_info": {
   "codemirror_mode": {
    "name": "ipython",
    "version": 3
   },
   "file_extension": ".py",
   "mimetype": "text/x-python",
   "name": "python",
   "nbconvert_exporter": "python",
   "pygments_lexer": "ipython3",
   "version": "3.9.13"
  }
 },
 "nbformat": 4,
 "nbformat_minor": 5
}

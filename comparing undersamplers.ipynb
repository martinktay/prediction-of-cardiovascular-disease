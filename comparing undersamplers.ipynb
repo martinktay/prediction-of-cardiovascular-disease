{
 "cells": [
  {
   "cell_type": "markdown",
   "id": "95fcfa83",
   "metadata": {},
   "source": [
    "# import libaries"
   ]
  },
  {
   "cell_type": "code",
   "execution_count": 1,
   "id": "34bbcfbc",
   "metadata": {},
   "outputs": [],
   "source": [
    "import pandas as pd\n",
    "from sklearn.model_selection import train_test_split\n",
    "from sklearn.tree import DecisionTreeClassifier\n",
    "from sklearn.metrics import confusion_matrix\n",
    "from imblearn.metrics import classification_report_imbalanced\n",
    "from imblearn.under_sampling import RandomUnderSampler, TomekLinks, EditedNearestNeighbours, NearMiss, EditedNearestNeighbours, RepeatedEditedNearestNeighbours, AllKNN, InstanceHardnessThreshold\n",
    "from imblearn.over_sampling import RandomOverSampler\n",
    "from imblearn.pipeline import Pipeline \n",
    "from collections import Counter"
   ]
  },
  {
   "cell_type": "markdown",
   "id": "58f69fa5",
   "metadata": {},
   "source": [
    "# import the dataset"
   ]
  },
  {
   "cell_type": "code",
   "execution_count": 3,
   "id": "7a0c28b9",
   "metadata": {},
   "outputs": [],
   "source": [
    "df=pd.read_csv('../heart_disease/heart_disease.csv')\n",
    "#df.isnull().sum() #check for null values \n",
    "#df.columns"
   ]
  },
  {
   "cell_type": "code",
   "execution_count": null,
   "id": "8c2b2b92",
   "metadata": {},
   "outputs": [],
   "source": [
    "model = DecisionTreeClassifier()"
   ]
  },
  {
   "cell_type": "markdown",
   "id": "3166b7cc",
   "metadata": {},
   "source": [
    "# Random under-sampling"
   ]
  },
  {
   "cell_type": "code",
   "execution_count": 20,
   "id": "8f517d3c",
   "metadata": {},
   "outputs": [
    {
     "name": "stdout",
     "output_type": "stream",
     "text": [
      "                   pre       rec       spe        f1       geo       iba       sup\n",
      "\n",
      "        0.0       0.94      0.77      0.55      0.85      0.65      0.43     68840\n",
      "        1.0       0.20      0.55      0.77      0.29      0.65      0.41      7264\n",
      "\n",
      "avg / total       0.87      0.75      0.57      0.79      0.65      0.43     76104\n",
      "\n"
     ]
    }
   ],
   "source": [
    "X = df.drop (labels = ['HeartDiseaseorAttack'], axis =1)\n",
    "y = df['HeartDiseaseorAttack']\n",
    "\n",
    "X_train, X_test, y_train, y_test = train_test_split(X, y, test_size=0.3, random_state=0)\n",
    "\n",
    "#over = RandomOverSampler(sampling_strategy=0.2)\n",
    "under = RandomUnderSampler(sampling_strategy=0.5)\n",
    "\n",
    "pipeline = Pipeline([('under', under), ('model', model)])\n",
    "\n",
    "pipeline.fit(X_train, y_train) \n",
    "\n",
    "y_hat = pipeline.predict(X_test)\n",
    "print(classification_report_imbalanced(y_test, y_hat))"
   ]
  },
  {
   "cell_type": "markdown",
   "id": "bb261620",
   "metadata": {},
   "source": [
    "# Nearmiss (not a fit, terrible f1 Score)"
   ]
  },
  {
   "cell_type": "code",
   "execution_count": 4,
   "id": "b023b049",
   "metadata": {},
   "outputs": [
    {
     "name": "stdout",
     "output_type": "stream",
     "text": [
      "                   pre       rec       spe        f1       geo       iba       sup\n",
      "\n",
      "        0.0       0.94      0.41      0.77      0.58      0.56      0.31     68840\n",
      "        1.0       0.12      0.77      0.41      0.21      0.56      0.33      7264\n",
      "\n",
      "avg / total       0.87      0.45      0.74      0.54      0.56      0.31     76104\n",
      "\n"
     ]
    }
   ],
   "source": [
    "X = df.drop (labels = ['HeartDiseaseorAttack'], axis =1)\n",
    "y = df['HeartDiseaseorAttack']\n",
    "\n",
    "X_train, X_test, y_train, y_test = train_test_split(X, y, test_size=0.3, random_state=0)\n",
    "\n",
    "#test with over and without over\n",
    "#over = RandomOverSampler(sampling_strategy=0.3)\n",
    "under = NearMiss(sampling_strategy=0.5, version=1, n_jobs= -1)\n",
    "\n",
    "pipeline = Pipeline([('under', under), ('model', model)])\n",
    "\n",
    "pipeline.fit(X_train, y_train) \n",
    "\n",
    "y_hat = pipeline.predict(X_test)\n",
    "print(classification_report_imbalanced(y_test, y_hat))"
   ]
  },
  {
   "cell_type": "markdown",
   "id": "f517bc9d",
   "metadata": {},
   "source": [
    "# EditedNearestNeighbours"
   ]
  },
  {
   "cell_type": "code",
   "execution_count": 13,
   "id": "2a130da8",
   "metadata": {},
   "outputs": [
    {
     "name": "stdout",
     "output_type": "stream",
     "text": [
      "                   pre       rec       spe        f1       geo       iba       sup\n",
      "\n",
      "        0.0       0.94      0.86      0.43      0.90      0.61      0.39     68840\n",
      "        1.0       0.25      0.43      0.86      0.32      0.61      0.36      7264\n",
      "\n",
      "avg / total       0.87      0.82      0.47      0.84      0.61      0.39     76104\n",
      "\n"
     ]
    }
   ],
   "source": [
    "X = df.drop (labels = ['HeartDiseaseorAttack'], axis =1)\n",
    "y = df['HeartDiseaseorAttack']\n",
    "\n",
    "X_train, X_test, y_train, y_test = train_test_split(X, y, test_size=0.3, random_state=0)\n",
    "\n",
    "#test with over and without over\n",
    "#over = RandomOverSampler(sampling_strategy=0.3)\n",
    "\n",
    "#kind_sel -all yelds slightly better results than -mode\n",
    "under = EditedNearestNeighbours(sampling_strategy='majority', kind_sel='all', n_jobs= -1)\n",
    "\n",
    "pipeline = Pipeline([('under', under), ('model', model)])\n",
    "\n",
    "pipeline.fit(X_train, y_train) \n",
    "\n",
    "y_hat = pipeline.predict(X_test)\n",
    "print(classification_report_imbalanced(y_test, y_hat))"
   ]
  },
  {
   "cell_type": "markdown",
   "id": "0e28ff4e",
   "metadata": {},
   "source": [
    "# RepeatedEditedNearestNeighbours"
   ]
  },
  {
   "cell_type": "code",
   "execution_count": 4,
   "id": "f7fd69c8",
   "metadata": {},
   "outputs": [
    {
     "name": "stdout",
     "output_type": "stream",
     "text": [
      "                   pre       rec       spe        f1       geo       iba       sup\n",
      "\n",
      "        0.0       0.94      0.84      0.51      0.89      0.65      0.44     68840\n",
      "        1.0       0.25      0.51      0.84      0.33      0.65      0.41      7264\n",
      "\n",
      "avg / total       0.88      0.81      0.54      0.83      0.65      0.43     76104\n",
      "\n"
     ]
    }
   ],
   "source": [
    "X = df.drop (labels = ['HeartDiseaseorAttack'], axis =1)\n",
    "y = df['HeartDiseaseorAttack']\n",
    "\n",
    "X_train, X_test, y_train, y_test = train_test_split(X, y, test_size=0.3, random_state=0)\n",
    "\n",
    "#test with over and without over\n",
    "#over = RandomOverSampler(sampling_strategy=0.3)\n",
    "under = RepeatedEditedNearestNeighbours(sampling_strategy='majority',max_iter=15, kind_sel='all', n_jobs= -1)\n",
    "\n",
    "pipeline = Pipeline([('under', under), ('model', model)])\n",
    "\n",
    "pipeline.fit(X_train, y_train) \n",
    "\n",
    "y_hat = pipeline.predict(X_test)\n",
    "print(classification_report_imbalanced(y_test, y_hat))"
   ]
  },
  {
   "cell_type": "markdown",
   "id": "5b84a072",
   "metadata": {},
   "source": [
    "# AllKNN"
   ]
  },
  {
   "cell_type": "code",
   "execution_count": 6,
   "id": "8fcd8fba",
   "metadata": {},
   "outputs": [
    {
     "name": "stdout",
     "output_type": "stream",
     "text": [
      "                   pre       rec       spe        f1       geo       iba       sup\n",
      "\n",
      "        0.0       0.94      0.86      0.43      0.90      0.61      0.39     68840\n",
      "        1.0       0.25      0.43      0.86      0.32      0.61      0.36      7264\n",
      "\n",
      "avg / total       0.87      0.82      0.47      0.84      0.61      0.39     76104\n",
      "\n"
     ]
    }
   ],
   "source": [
    "X = df.drop (labels = ['HeartDiseaseorAttack'], axis =1)\n",
    "y = df['HeartDiseaseorAttack']\n",
    "\n",
    "X_train, X_test, y_train, y_test = train_test_split(X, y, test_size=0.3, random_state=0)\n",
    "\n",
    "#test with over-sampling and without over\n",
    "over = RandomOverSampler(sampling_strategy=0.3)\n",
    "under = EditedNearestNeighbours(sampling_strategy='majority', kind_sel='all', n_jobs=-1)\n",
    "\n",
    "pipeline = Pipeline([('under', under), ('model', model)])\n",
    "\n",
    "pipeline.fit(X_train, y_train) \n",
    "\n",
    "y_hat = pipeline.predict(X_test)\n",
    "print(classification_report_imbalanced(y_test, y_hat))"
   ]
  },
  {
   "cell_type": "markdown",
   "id": "b65fbbef",
   "metadata": {},
   "source": [
    "# Tomek's Links"
   ]
  },
  {
   "cell_type": "code",
   "execution_count": 7,
   "id": "7450e231",
   "metadata": {},
   "outputs": [
    {
     "name": "stdout",
     "output_type": "stream",
     "text": [
      "                   pre       rec       spe        f1       geo       iba       sup\n",
      "\n",
      "        0.0       0.92      0.91      0.29      0.91      0.51      0.28     68840\n",
      "        1.0       0.25      0.29      0.91      0.27      0.51      0.25      7264\n",
      "\n",
      "avg / total       0.86      0.85      0.35      0.85      0.51      0.28     76104\n",
      "\n"
     ]
    }
   ],
   "source": [
    "X = df.drop (labels = ['HeartDiseaseorAttack'], axis =1)\n",
    "y = df['HeartDiseaseorAttack']\n",
    "\n",
    "X_train, X_test, y_train, y_test = train_test_split(X, y, test_size=0.3, random_state=0)\n",
    "\n",
    "#test with over-sampling and without over\n",
    "#over = RandomOverSampler(sampling_strategy=0.3)\n",
    "under = TomekLinks(sampling_strategy='majority', n_jobs=-1)\n",
    "\n",
    "pipeline = Pipeline([('under', under), ('model', model)])\n",
    "\n",
    "pipeline.fit(X_train, y_train) \n",
    "\n",
    "y_hat = pipeline.predict(X_test)\n",
    "print(classification_report_imbalanced(y_test, y_hat))"
   ]
  },
  {
   "cell_type": "markdown",
   "id": "4cb47c02",
   "metadata": {},
   "source": [
    "# InstanceHardnessThreshold (bad f1 Score)"
   ]
  },
  {
   "cell_type": "code",
   "execution_count": 17,
   "id": "486fc8de",
   "metadata": {},
   "outputs": [
    {
     "name": "stdout",
     "output_type": "stream",
     "text": [
      "                   pre       rec       spe        f1       geo       iba       sup\n",
      "\n",
      "          0       0.98      0.58      0.88      0.73      0.71      0.49     68840\n",
      "          1       0.18      0.88      0.58      0.30      0.71      0.52      7264\n",
      "\n",
      "avg / total       0.90      0.61      0.85      0.69      0.71      0.50     76104\n",
      "\n"
     ]
    }
   ],
   "source": [
    "X = df.drop (labels = ['HeartDiseaseorAttack'], axis =1).astype(int)\n",
    "y = df['HeartDiseaseorAttack'].astype(int)\n",
    "\n",
    "X_train, X_test, y_train, y_test = train_test_split(X, y, test_size=0.3, random_state=0)\n",
    "\n",
    "#test with over-sampling and without over\n",
    "#over = RandomOverSampler(sampling_strategy=0.3)\n",
    "under = InstanceHardnessThreshold(sampling_strategy=0.5, n_jobs=-1)\n",
    "\n",
    "pipeline = Pipeline([('under', under), ('model', model)])\n",
    "\n",
    "pipeline.fit(X_train, y_train) \n",
    "\n",
    "y_hat = pipeline.predict(X_test)\n",
    "print(classification_report_imbalanced(y_test, y_hat))"
   ]
  },
  {
   "cell_type": "markdown",
   "id": "b3b6ebc7",
   "metadata": {},
   "source": [
    "# without pipeline (for testing)"
   ]
  },
  {
   "cell_type": "code",
   "execution_count": 18,
   "id": "8d9816ee",
   "metadata": {},
   "outputs": [
    {
     "name": "stdout",
     "output_type": "stream",
     "text": [
      "Original dataset shape Counter({0: 229787, 1: 23893})\n",
      "Y train Counter({0: 160947, 1: 16629})\n",
      "Y test Counter({0: 68840, 1: 7264})\n",
      "Y balanced Counter({0: 54219, 1: 16629})\n"
     ]
    }
   ],
   "source": [
    "from collections import Counter\n",
    "\n",
    "print(f'Original dataset shape {Counter(y)}')\n",
    "\n",
    "X_train, X_test, y_train , y_test = train_test_split(X,y,test_size=0.3, random_state=0) \n",
    "\n",
    "print(f'Y train {Counter(y_train)}')\n",
    "print(f'Y test {Counter(y_test)}')\n",
    "\n",
    "resample = InstanceHardnessThreshold(sampling_strategy=0.5, n_jobs=-1)\n",
    "\n",
    "X_balanced, y_balanced = resample.fit_resample(X_train, y_train)\n",
    "\n",
    "print(f'Y balanced {Counter(y_balanced)}')"
   ]
  },
  {
   "cell_type": "code",
   "execution_count": 19,
   "id": "a3509e71",
   "metadata": {},
   "outputs": [
    {
     "name": "stdout",
     "output_type": "stream",
     "text": [
      "                   pre       rec       spe        f1       geo       iba       sup\n",
      "\n",
      "          0       0.98      0.57      0.89      0.72      0.71      0.49     68840\n",
      "          1       0.18      0.89      0.57      0.30      0.71      0.53      7264\n",
      "\n",
      "avg / total       0.90      0.60      0.86      0.68      0.71      0.50     76104\n",
      "\n"
     ]
    }
   ],
   "source": [
    "model.fit(X_balanced, y_balanced)\n",
    "y_pred = model.predict(X_test)\n",
    "\n",
    "print(classification_report_imbalanced(y_test, y_pred))"
   ]
  }
 ],
 "metadata": {
  "kernelspec": {
   "display_name": "Python 3 (ipykernel)",
   "language": "python",
   "name": "python3"
  },
  "language_info": {
   "codemirror_mode": {
    "name": "ipython",
    "version": 3
   },
   "file_extension": ".py",
   "mimetype": "text/x-python",
   "name": "python",
   "nbconvert_exporter": "python",
   "pygments_lexer": "ipython3",
   "version": "3.9.13"
  }
 },
 "nbformat": 4,
 "nbformat_minor": 5
}
